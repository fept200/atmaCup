{
  "nbformat": 4,
  "nbformat_minor": 0,
  "metadata": {
    "colab": {
      "name": "Untitled0.ipynb",
      "provenance": [],
      "authorship_tag": "ABX9TyMCQsodTZZZ57+JN6KNZlWI",
      "include_colab_link": true
    },
    "kernelspec": {
      "name": "python3",
      "display_name": "Python 3"
    },
    "language_info": {
      "name": "python"
    }
  },
  "cells": [
    {
      "cell_type": "markdown",
      "metadata": {
        "id": "view-in-github",
        "colab_type": "text"
      },
      "source": [
        "<a href=\"https://colab.research.google.com/github/fept200/atmaCup/blob/main/test.ipynb\" target=\"_parent\"><img src=\"https://colab.research.google.com/assets/colab-badge.svg\" alt=\"Open In Colab\"/></a>"
      ]
    },
    {
      "cell_type": "code",
      "metadata": {
        "colab": {
          "base_uri": "https://localhost:8080/"
        },
        "id": "9Or-Jnq9ffTu",
        "outputId": "a75ab9d4-4a12-4daa-dd96-93878ae0f3e8"
      },
      "source": [
        "%env DATA_ROOT D:\\atmacup11\\"
      ],
      "execution_count": 7,
      "outputs": [
        {
          "output_type": "stream",
          "name": "stdout",
          "text": [
            "env: DATA_ROOT=D:\\atmacup11\n"
          ]
        }
      ]
    },
    {
      "cell_type": "code",
      "metadata": {
        "id": "DLU8V9W5gpvL"
      },
      "source": [
        "import os\n",
        "\n",
        "import pandas as pd\n",
        "import numpy as np\n",
        "from glob import  glob\n",
        "\n",
        "import matplotlib.pyplot as plt\n",
        "import seaborn as sns"
      ],
      "execution_count": 8,
      "outputs": []
    },
    {
      "cell_type": "code",
      "metadata": {
        "colab": {
          "base_uri": "https://localhost:8080/"
        },
        "id": "q8zVMuuYgvVx",
        "outputId": "44a070f9-528a-4566-a08f-291b00920669"
      },
      "source": [
        "!pip install python-vivid"
      ],
      "execution_count": 3,
      "outputs": [
        {
          "output_type": "stream",
          "name": "stdout",
          "text": [
            "Collecting python-vivid\n",
            "  Downloading python_vivid-0.3.3.4-py3-none-any.whl (76 kB)\n",
            "\u001b[?25l\r\u001b[K     |████▎                           | 10 kB 31.8 MB/s eta 0:00:01\r\u001b[K     |████████▋                       | 20 kB 37.7 MB/s eta 0:00:01\r\u001b[K     |████████████▉                   | 30 kB 35.8 MB/s eta 0:00:01\r\u001b[K     |█████████████████▏              | 40 kB 25.4 MB/s eta 0:00:01\r\u001b[K     |█████████████████████▍          | 51 kB 12.9 MB/s eta 0:00:01\r\u001b[K     |█████████████████████████▊      | 61 kB 12.5 MB/s eta 0:00:01\r\u001b[K     |██████████████████████████████  | 71 kB 14.1 MB/s eta 0:00:01\r\u001b[K     |████████████████████████████████| 76 kB 3.6 MB/s \n",
            "\u001b[?25hRequirement already satisfied: joblib in /usr/local/lib/python3.7/dist-packages (from python-vivid) (1.0.1)\n",
            "Requirement already satisfied: tabulate in /usr/local/lib/python3.7/dist-packages (from python-vivid) (0.8.9)\n",
            "Requirement already satisfied: xgboost in /usr/local/lib/python3.7/dist-packages (from python-vivid) (0.90)\n",
            "Requirement already satisfied: lightgbm in /usr/local/lib/python3.7/dist-packages (from python-vivid) (2.2.3)\n",
            "Requirement already satisfied: matplotlib in /usr/local/lib/python3.7/dist-packages (from python-vivid) (3.2.2)\n",
            "Requirement already satisfied: pandas in /usr/local/lib/python3.7/dist-packages (from python-vivid) (1.1.5)\n",
            "Requirement already satisfied: tqdm in /usr/local/lib/python3.7/dist-packages (from python-vivid) (4.62.0)\n",
            "Requirement already satisfied: scipy in /usr/local/lib/python3.7/dist-packages (from python-vivid) (1.4.1)\n",
            "Collecting optuna\n",
            "  Downloading optuna-2.9.1-py3-none-any.whl (302 kB)\n",
            "\u001b[?25l\r\u001b[K     |█                               | 10 kB 16.0 MB/s eta 0:00:01\r\u001b[K     |██▏                             | 20 kB 25.2 MB/s eta 0:00:01\r\u001b[K     |███▎                            | 30 kB 33.9 MB/s eta 0:00:01\r\u001b[K     |████▎                           | 40 kB 41.0 MB/s eta 0:00:01\r\u001b[K     |█████▍                          | 51 kB 46.6 MB/s eta 0:00:01\r\u001b[K     |██████▌                         | 61 kB 52.6 MB/s eta 0:00:01\r\u001b[K     |███████▋                        | 71 kB 56.9 MB/s eta 0:00:01\r\u001b[K     |████████▋                       | 81 kB 61.3 MB/s eta 0:00:01\r\u001b[K     |█████████▊                      | 92 kB 64.5 MB/s eta 0:00:01\r\u001b[K     |██████████▉                     | 102 kB 34.6 MB/s eta 0:00:01\r\u001b[K     |████████████                    | 112 kB 34.6 MB/s eta 0:00:01\r\u001b[K     |█████████████                   | 122 kB 34.6 MB/s eta 0:00:01\r\u001b[K     |██████████████                  | 133 kB 34.6 MB/s eta 0:00:01\r\u001b[K     |███████████████▏                | 143 kB 34.6 MB/s eta 0:00:01\r\u001b[K     |████████████████▎               | 153 kB 34.6 MB/s eta 0:00:01\r\u001b[K     |█████████████████▎              | 163 kB 34.6 MB/s eta 0:00:01\r\u001b[K     |██████████████████▍             | 174 kB 34.6 MB/s eta 0:00:01\r\u001b[K     |███████████████████▌            | 184 kB 34.6 MB/s eta 0:00:01\r\u001b[K     |████████████████████▋           | 194 kB 34.6 MB/s eta 0:00:01\r\u001b[K     |█████████████████████▋          | 204 kB 34.6 MB/s eta 0:00:01\r\u001b[K     |██████████████████████▊         | 215 kB 34.6 MB/s eta 0:00:01\r\u001b[K     |███████████████████████▉        | 225 kB 34.6 MB/s eta 0:00:01\r\u001b[K     |█████████████████████████       | 235 kB 34.6 MB/s eta 0:00:01\r\u001b[K     |██████████████████████████      | 245 kB 34.6 MB/s eta 0:00:01\r\u001b[K     |███████████████████████████     | 256 kB 34.6 MB/s eta 0:00:01\r\u001b[K     |████████████████████████████▏   | 266 kB 34.6 MB/s eta 0:00:01\r\u001b[K     |█████████████████████████████▎  | 276 kB 34.6 MB/s eta 0:00:01\r\u001b[K     |██████████████████████████████▎ | 286 kB 34.6 MB/s eta 0:00:01\r\u001b[K     |███████████████████████████████▍| 296 kB 34.6 MB/s eta 0:00:01\r\u001b[K     |████████████████████████████████| 302 kB 34.6 MB/s \n",
            "\u001b[?25hRequirement already satisfied: seaborn in /usr/local/lib/python3.7/dist-packages (from python-vivid) (0.11.1)\n",
            "Requirement already satisfied: numpy in /usr/local/lib/python3.7/dist-packages (from python-vivid) (1.19.5)\n",
            "Requirement already satisfied: feather-format in /usr/local/lib/python3.7/dist-packages (from python-vivid) (0.4.1)\n",
            "Requirement already satisfied: networkx in /usr/local/lib/python3.7/dist-packages (from python-vivid) (2.6.2)\n",
            "Requirement already satisfied: scikit-learn in /usr/local/lib/python3.7/dist-packages (from python-vivid) (0.22.2.post1)\n",
            "Requirement already satisfied: pyarrow>=0.4.0 in /usr/local/lib/python3.7/dist-packages (from feather-format->python-vivid) (3.0.0)\n",
            "Requirement already satisfied: pyparsing!=2.0.4,!=2.1.2,!=2.1.6,>=2.0.1 in /usr/local/lib/python3.7/dist-packages (from matplotlib->python-vivid) (2.4.7)\n",
            "Requirement already satisfied: cycler>=0.10 in /usr/local/lib/python3.7/dist-packages (from matplotlib->python-vivid) (0.10.0)\n",
            "Requirement already satisfied: python-dateutil>=2.1 in /usr/local/lib/python3.7/dist-packages (from matplotlib->python-vivid) (2.8.2)\n",
            "Requirement already satisfied: kiwisolver>=1.0.1 in /usr/local/lib/python3.7/dist-packages (from matplotlib->python-vivid) (1.3.1)\n",
            "Requirement already satisfied: six in /usr/local/lib/python3.7/dist-packages (from cycler>=0.10->matplotlib->python-vivid) (1.15.0)\n",
            "Collecting cliff\n",
            "  Downloading cliff-3.9.0-py3-none-any.whl (80 kB)\n",
            "\u001b[K     |████████████████████████████████| 80 kB 8.8 MB/s \n",
            "\u001b[?25hCollecting cmaes>=0.8.2\n",
            "  Downloading cmaes-0.8.2-py3-none-any.whl (15 kB)\n",
            "Collecting alembic\n",
            "  Downloading alembic-1.7.1-py3-none-any.whl (208 kB)\n",
            "\u001b[K     |████████████████████████████████| 208 kB 75.1 MB/s \n",
            "\u001b[?25hCollecting colorlog\n",
            "  Downloading colorlog-6.4.1-py2.py3-none-any.whl (11 kB)\n",
            "Requirement already satisfied: PyYAML in /usr/local/lib/python3.7/dist-packages (from optuna->python-vivid) (3.13)\n",
            "Requirement already satisfied: packaging>=20.0 in /usr/local/lib/python3.7/dist-packages (from optuna->python-vivid) (21.0)\n",
            "Requirement already satisfied: sqlalchemy>=1.1.0 in /usr/local/lib/python3.7/dist-packages (from optuna->python-vivid) (1.4.22)\n",
            "Requirement already satisfied: greenlet!=0.4.17 in /usr/local/lib/python3.7/dist-packages (from sqlalchemy>=1.1.0->optuna->python-vivid) (1.1.1)\n",
            "Requirement already satisfied: importlib-metadata in /usr/local/lib/python3.7/dist-packages (from sqlalchemy>=1.1.0->optuna->python-vivid) (4.6.4)\n",
            "Collecting Mako\n",
            "  Downloading Mako-1.1.5-py2.py3-none-any.whl (75 kB)\n",
            "\u001b[K     |████████████████████████████████| 75 kB 3.1 MB/s \n",
            "\u001b[?25hRequirement already satisfied: importlib-resources in /usr/local/lib/python3.7/dist-packages (from alembic->optuna->python-vivid) (5.2.2)\n",
            "Collecting cmd2>=1.0.0\n",
            "  Downloading cmd2-2.1.2-py3-none-any.whl (141 kB)\n",
            "\u001b[K     |████████████████████████████████| 141 kB 74.9 MB/s \n",
            "\u001b[?25hCollecting stevedore>=2.0.1\n",
            "  Downloading stevedore-3.4.0-py3-none-any.whl (49 kB)\n",
            "\u001b[K     |████████████████████████████████| 49 kB 4.8 MB/s \n",
            "\u001b[?25hCollecting pbr!=2.1.0,>=2.0.0\n",
            "  Downloading pbr-5.6.0-py2.py3-none-any.whl (111 kB)\n",
            "\u001b[K     |████████████████████████████████| 111 kB 71.2 MB/s \n",
            "\u001b[?25hRequirement already satisfied: PrettyTable>=0.7.2 in /usr/local/lib/python3.7/dist-packages (from cliff->optuna->python-vivid) (2.1.0)\n",
            "Collecting autopage>=0.4.0\n",
            "  Downloading autopage-0.4.0-py3-none-any.whl (20 kB)\n",
            "Requirement already satisfied: wcwidth>=0.1.7 in /usr/local/lib/python3.7/dist-packages (from cmd2>=1.0.0->cliff->optuna->python-vivid) (0.2.5)\n",
            "Requirement already satisfied: typing-extensions in /usr/local/lib/python3.7/dist-packages (from cmd2>=1.0.0->cliff->optuna->python-vivid) (3.7.4.3)\n",
            "Requirement already satisfied: attrs>=16.3.0 in /usr/local/lib/python3.7/dist-packages (from cmd2>=1.0.0->cliff->optuna->python-vivid) (21.2.0)\n",
            "Collecting colorama>=0.3.7\n",
            "  Downloading colorama-0.4.4-py2.py3-none-any.whl (16 kB)\n",
            "Collecting pyperclip>=1.6\n",
            "  Downloading pyperclip-1.8.2.tar.gz (20 kB)\n",
            "Requirement already satisfied: zipp>=0.5 in /usr/local/lib/python3.7/dist-packages (from importlib-metadata->sqlalchemy>=1.1.0->optuna->python-vivid) (3.5.0)\n",
            "Requirement already satisfied: MarkupSafe>=0.9.2 in /usr/local/lib/python3.7/dist-packages (from Mako->alembic->optuna->python-vivid) (2.0.1)\n",
            "Requirement already satisfied: pytz>=2017.2 in /usr/local/lib/python3.7/dist-packages (from pandas->python-vivid) (2018.9)\n",
            "Building wheels for collected packages: pyperclip\n",
            "  Building wheel for pyperclip (setup.py) ... \u001b[?25l\u001b[?25hdone\n",
            "  Created wheel for pyperclip: filename=pyperclip-1.8.2-py3-none-any.whl size=11136 sha256=726788ee6c6d3fa802bf1c24aa83ae0412cccad7022e39fc7456e3ffe06a003a\n",
            "  Stored in directory: /root/.cache/pip/wheels/9f/18/84/8f69f8b08169c7bae2dde6bd7daf0c19fca8c8e500ee620a28\n",
            "Successfully built pyperclip\n",
            "Installing collected packages: pyperclip, pbr, colorama, stevedore, Mako, cmd2, autopage, colorlog, cmaes, cliff, alembic, optuna, python-vivid\n",
            "Successfully installed Mako-1.1.5 alembic-1.7.1 autopage-0.4.0 cliff-3.9.0 cmaes-0.8.2 cmd2-2.1.2 colorama-0.4.4 colorlog-6.4.1 optuna-2.9.1 pbr-5.6.0 pyperclip-1.8.2 python-vivid-0.3.3.4 stevedore-3.4.0\n"
          ]
        }
      ]
    },
    {
      "cell_type": "code",
      "metadata": {
        "id": "n1RMgzxchSMZ"
      },
      "source": [
        "dataset_root = os.environ.get('DATA_ROOT', None)\n",
        "assert dataset_root is not None\n",
        "\n",
        "input_dir = os.path.join(dataset_root, \"inputs\")\n",
        "photo_dir = os.path.join(input_dir, \"photos\")\n",
        "\n",
        "output_dir = os.path.join(dataset_root, \"outputs_tutorial#1\")\n",
        "os.makedirs(output_dir, exist_ok=True)\n",
        "\n",
        "photo_pathes = glob(os.path.join(photo_dir, \"*.jpg\"))"
      ],
      "execution_count": 9,
      "outputs": []
    },
    {
      "cell_type": "code",
      "metadata": {
        "colab": {
          "base_uri": "https://localhost:8080/"
        },
        "id": "_Y2wNKl0hSYx",
        "outputId": "505266ff-d62b-49d6-a5f2-b30a496c40b6"
      },
      "source": [
        "glob(dataset_root + '/inputs/*')"
      ],
      "execution_count": 12,
      "outputs": [
        {
          "output_type": "execute_result",
          "data": {
            "text/plain": [
              "[]"
            ]
          },
          "metadata": {},
          "execution_count": 12
        }
      ]
    },
    {
      "cell_type": "code",
      "metadata": {
        "colab": {
          "base_uri": "https://localhost:8080/"
        },
        "id": "KIuKNDhphSf3",
        "outputId": "87071cf3-3e35-4e46-cbbe-8ef57112e09b"
      },
      "source": [
        "print(dataset_root)"
      ],
      "execution_count": 11,
      "outputs": [
        {
          "output_type": "stream",
          "name": "stdout",
          "text": [
            "D:\\atmacup11\n"
          ]
        }
      ]
    },
    {
      "cell_type": "code",
      "metadata": {
        "id": "W16pHKoThSj5"
      },
      "source": [
        ""
      ],
      "execution_count": null,
      "outputs": []
    },
    {
      "cell_type": "code",
      "metadata": {
        "id": "IJJf9yuWhSm_"
      },
      "source": [
        ""
      ],
      "execution_count": null,
      "outputs": []
    }
  ]
}